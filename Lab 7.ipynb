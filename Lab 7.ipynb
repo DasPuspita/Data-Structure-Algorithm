{
 "cells": [
  {
   "cell_type": "code",
   "execution_count": 13,
   "id": "b880b157",
   "metadata": {},
   "outputs": [
    {
     "name": "stdout",
     "output_type": "stream",
     "text": [
      "false\n",
      "[-3, 2, 3, 5, 9, 10, 12, 12]\n"
     ]
    }
   ],
   "source": [
    "#TASK 1\n",
    "\n",
    "class KeyIndex:\n",
    "    def __init__(self,a):\n",
    "        self.k=None\n",
    "\n",
    "        lar=-99999\n",
    "        for g in a:\n",
    "            if g>lar:\n",
    "                lar=g\n",
    "                \n",
    "        small=9999\n",
    "        for h in a:\n",
    "            if h<small:\n",
    "                small=h\n",
    "        \n",
    "        self.y=0\n",
    "        if small<0:\n",
    "            self.y=small*(-1)\n",
    "            \n",
    "        self.k=[0]*(lar+self.y+1)\n",
    "        \n",
    "        for e in a:\n",
    "            self.k[e+self.y]+=1\n",
    "        \n",
    "                \n",
    "    def search(self,val):\n",
    "        if self.k[val+self.y]==1:\n",
    "            return 'true'\n",
    "        else:\n",
    "            return 'false'\n",
    "        \n",
    "    def sort(self):\n",
    "        another=[]\n",
    "        \n",
    "        for b in range(len(self.k)):\n",
    "            if self.k[b]==1:\n",
    "                another.append(b-self.y) \n",
    "            if self.k[b]>1:\n",
    "                for n in range(self.k[b]): \n",
    "                    another.append(b-self.y)\n",
    "          \n",
    "        return another\n",
    "        \n",
    "a=[2,9,5,3,-3,12,12,10]\n",
    "w=KeyIndex(a)\n",
    "print(w.search(8))\n",
    "print(w.sort())"
   ]
  },
  {
   "cell_type": "code",
   "execution_count": 1,
   "id": "8a0139b4",
   "metadata": {},
   "outputs": [
    {
     "name": "stdout",
     "output_type": "stream",
     "text": [
      "false\n",
      "[0, 'ASFF342', 0, 0, 0, 0, 0, 0, 0]\n"
     ]
    }
   ],
   "source": [
    "#TASK 2\n",
    "\n",
    "class hash:\n",
    "    def __init__(self,arr):\n",
    "        self.cap_c=0\n",
    "        self.num_c=0\n",
    "        self.another=[0]*9\n",
    "        \n",
    "        for i in arr:\n",
    "            for j in range(len(i)):\n",
    "                if 48<=ord(i[j])<=57:\n",
    "                    self.num_c+=ord(i[j])\n",
    "                    \n",
    "                if i[j]!='A' or i[j]!='E' or i[j]!='I' or i[j]!='O' or i[j]!='U': \n",
    "                    self.cap_c+=1     \n",
    "            \n",
    "            self.cal_hash(i)\n",
    "            self.num_c=0\n",
    "            self.cap_c=0\n",
    "            \n",
    "            \n",
    "    def search(self,va):\n",
    "        x=0\n",
    "        if self.another[x]==va:\n",
    "            return 'true'\n",
    "        else:\n",
    "            return 'false'\n",
    "            x+=1\n",
    "            \n",
    "    def cal_hash(self,i):\n",
    "        total=(self.cap_c*24+self.num_c)%9     \n",
    "        for h in self.another:\n",
    "            if h==total:\n",
    "                if self.another[h]!='':\n",
    "                    self.another[h+1]=i\n",
    "                \n",
    "                else:\n",
    "                    self.another[h]=i\n",
    "                \n",
    "        return self.another\n",
    "        \n",
    "arr=['ASFF342','ERN46','ST1E89B8A32','MAT216','POLLY23','97GH34','AEI144','123465JK','DFG45JH']\n",
    "h=hash(arr)\n",
    "print(h.search('ERN46'))\n",
    "print(h.cal_hash(arr[0])) "
   ]
  },
  {
   "cell_type": "code",
   "execution_count": null,
   "id": "e9eb8ab8",
   "metadata": {},
   "outputs": [],
   "source": []
  }
 ],
 "metadata": {
  "kernelspec": {
   "display_name": "Python 3",
   "language": "python",
   "name": "python3"
  },
  "language_info": {
   "codemirror_mode": {
    "name": "ipython",
    "version": 3
   },
   "file_extension": ".py",
   "mimetype": "text/x-python",
   "name": "python",
   "nbconvert_exporter": "python",
   "pygments_lexer": "ipython3",
   "version": "3.8.8"
  }
 },
 "nbformat": 4,
 "nbformat_minor": 5
}
