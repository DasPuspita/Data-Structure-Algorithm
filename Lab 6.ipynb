{
 "cells": [
  {
   "cell_type": "code",
   "execution_count": 75,
   "id": "0d840d93",
   "metadata": {},
   "outputs": [
    {
     "name": "stdout",
     "output_type": "stream",
     "text": [
      "[-5, -1, 0, 2, 3, 5, 7, 9, 18, 88]\n"
     ]
    }
   ],
   "source": [
    "#TASK 1\n",
    "\n",
    "def selection(arr,idx1,idx2):\n",
    "    va=-1\n",
    "    if idx1==len(arr) and idx2==len(arr):\n",
    "        return va\n",
    "    elif (len(arr)+va)>idx1:\n",
    "        least_index=idx1\n",
    "        for d in range(idx2,len(arr)):\n",
    "            if arr[least_index]>arr[d]:\n",
    "                least_index=d\n",
    "\n",
    "        if least_index is not idx1:\n",
    "            sw=arr[idx1]\n",
    "            arr[idx1]=arr[least_index]\n",
    "            arr[least_index]=sw\n",
    "        selection(arr,idx1+1,idx2+1)\n",
    "        return arr\n",
    "    \n",
    "arr=[9,0,2,7,18,5,3,-5,88,-1]\n",
    "idx1=0 \n",
    "print(selection(arr,idx1,idx1+1))"
   ]
  },
  {
   "cell_type": "code",
   "execution_count": 77,
   "id": "388ccfce",
   "metadata": {},
   "outputs": [
    {
     "name": "stdout",
     "output_type": "stream",
     "text": [
      "[-1, 1, 3, 4, 6, 36, 57, 62, 98]\n"
     ]
    }
   ],
   "source": [
    "#TASK 2\n",
    "\n",
    "def insertion(arr,idx):\n",
    "    value=-1\n",
    "    if idx==len(arr):\n",
    "        return value\n",
    "    \n",
    "    elif len(arr)>idx:\n",
    "        g=arr[idx-1+1]\n",
    "        h=idx-2\n",
    "        f=h+1\n",
    "        \n",
    "        while 0<=f and arr[f-1+1]>g:\n",
    "            arr[f+2-1]=arr[f]\n",
    "            f-=1\n",
    "        arr[f+2-1]=g\n",
    "        \n",
    "        insertion(arr,idx+1)\n",
    "        return arr\n",
    "    \n",
    "arr=[57,36,4,1,6,3,62,98,-1]\n",
    "idx=0\n",
    "print(insertion(arr,idx+1))"
   ]
  },
  {
   "cell_type": "code",
   "execution_count": 78,
   "id": "1c947727",
   "metadata": {},
   "outputs": [
    {
     "name": "stdout",
     "output_type": "stream",
     "text": [
      "[5, 2, 0, 4, 1, 9]\n"
     ]
    }
   ],
   "source": [
    "#TASK 3\n",
    "\n",
    "class Node:\n",
    "    def __init__(self,element,next_node):\n",
    "        self.element=element\n",
    "        self.next_node=next_node\n",
    "        \n",
    "    \n",
    "class MyList:\n",
    "    def __init__(self,a):\n",
    "        self.head=None\n",
    "        t=None\n",
    "        \n",
    "        j=0\n",
    "        while j<len(a):\n",
    "            nod=Node(a[j],None)\n",
    "            if self.head==None:\n",
    "                self.head=nod\n",
    "                t=nod\n",
    "            else:\n",
    "                t.next_node=nod\n",
    "                t=nod\n",
    "            j+=1\n",
    "                \n",
    "    def showList(self):\n",
    "        nod=self.head\n",
    "        if nod is None:\n",
    "            print('Empty list')\n",
    "        else:\n",
    "            while nod is not None:\n",
    "                print(nod.element,end='->')\n",
    "                nod=nod.next_node\n",
    "            print('\\b'*2)\n",
    "        \n",
    "        \n",
    "    def bubble(self):\n",
    "        n=None\n",
    "        nod=self.head\n",
    "        for w in a:\n",
    "            if nod!=None:\n",
    "                ne=nod.next_node\n",
    "                nod.next_node=n\n",
    "                n=nod\n",
    "                nod=ne\n",
    "            \n",
    "            g=ne\n",
    "            while nod is not g:\n",
    "                if nod.element>nod.next_node.element:\n",
    "                    sw=nod.element\n",
    "                    nod.element=nod.next_node.element\n",
    "                    nod.next_node.element=sw\n",
    "                nod=nod.next_node\n",
    "        print(a)\n",
    "        \n",
    "a=[5,2,0,4,1,9]\n",
    "li=MyList(a)\n",
    "li.bubble()"
   ]
  },
  {
   "cell_type": "code",
   "execution_count": 83,
   "id": "28ae18ae",
   "metadata": {},
   "outputs": [
    {
     "ename": "AttributeError",
     "evalue": "'NoneType' object has no attribute 'element'",
     "output_type": "error",
     "traceback": [
      "\u001b[1;31m---------------------------------------------------------------------------\u001b[0m",
      "\u001b[1;31mAttributeError\u001b[0m                            Traceback (most recent call last)",
      "\u001b[1;32m<ipython-input-83-b7c65d41097d>\u001b[0m in \u001b[0;36m<module>\u001b[1;34m\u001b[0m\n\u001b[0;32m     63\u001b[0m \u001b[0ma\u001b[0m\u001b[1;33m=\u001b[0m\u001b[1;33m[\u001b[0m\u001b[1;36m5\u001b[0m\u001b[1;33m,\u001b[0m\u001b[1;36m2\u001b[0m\u001b[1;33m,\u001b[0m\u001b[1;36m0\u001b[0m\u001b[1;33m,\u001b[0m\u001b[1;36m4\u001b[0m\u001b[1;33m,\u001b[0m\u001b[1;36m1\u001b[0m\u001b[1;33m,\u001b[0m\u001b[1;36m9\u001b[0m\u001b[1;33m]\u001b[0m\u001b[1;33m\u001b[0m\u001b[1;33m\u001b[0m\u001b[0m\n\u001b[0;32m     64\u001b[0m \u001b[0mli\u001b[0m\u001b[1;33m=\u001b[0m\u001b[0mMyList\u001b[0m\u001b[1;33m(\u001b[0m\u001b[0ma\u001b[0m\u001b[1;33m)\u001b[0m\u001b[1;33m\u001b[0m\u001b[1;33m\u001b[0m\u001b[0m\n\u001b[1;32m---> 65\u001b[1;33m \u001b[0mli\u001b[0m\u001b[1;33m.\u001b[0m\u001b[0mselection\u001b[0m\u001b[1;33m(\u001b[0m\u001b[1;33m)\u001b[0m\u001b[1;33m\u001b[0m\u001b[1;33m\u001b[0m\u001b[0m\n\u001b[0m",
      "\u001b[1;32m<ipython-input-83-b7c65d41097d>\u001b[0m in \u001b[0;36mselection\u001b[1;34m(self)\u001b[0m\n\u001b[0;32m     47\u001b[0m \u001b[1;33m\u001b[0m\u001b[0m\n\u001b[0;32m     48\u001b[0m             \u001b[0mlarge\u001b[0m\u001b[1;33m=\u001b[0m\u001b[0mne\u001b[0m\u001b[1;33m\u001b[0m\u001b[1;33m\u001b[0m\u001b[0m\n\u001b[1;32m---> 49\u001b[1;33m             \u001b[0mlar_val\u001b[0m\u001b[1;33m=\u001b[0m\u001b[0mne\u001b[0m\u001b[1;33m.\u001b[0m\u001b[0melement\u001b[0m\u001b[1;33m\u001b[0m\u001b[1;33m\u001b[0m\u001b[0m\n\u001b[0m\u001b[0;32m     50\u001b[0m \u001b[1;33m\u001b[0m\u001b[0m\n\u001b[0;32m     51\u001b[0m             \u001b[0mg\u001b[0m\u001b[1;33m=\u001b[0m\u001b[0mne\u001b[0m\u001b[1;33m\u001b[0m\u001b[1;33m\u001b[0m\u001b[0m\n",
      "\u001b[1;31mAttributeError\u001b[0m: 'NoneType' object has no attribute 'element'"
     ]
    }
   ],
   "source": [
    "#TASK 4\n",
    "\n",
    "class Node:\n",
    "    def __init__(self,element,next_node):\n",
    "        self.element=element\n",
    "        self.next_node=next_node\n",
    "        \n",
    "    \n",
    "class MyList:\n",
    "    def __init__(self,a):\n",
    "        self.head=None\n",
    "        t=None\n",
    "        \n",
    "        j=0\n",
    "        while j<len(a):\n",
    "            nod=Node(a[j],None)\n",
    "            if self.head==None:\n",
    "                self.head=nod\n",
    "                t=nod\n",
    "            else:\n",
    "                t.next_node=nod\n",
    "                t=nod\n",
    "            j+=1\n",
    "                \n",
    "    def showList(self):\n",
    "        nod=self.head\n",
    "        if nod is None:\n",
    "            print('Empty list')\n",
    "        else:\n",
    "            while nod is not None:\n",
    "                print(nod.element,end='->')\n",
    "                nod=nod.next_node\n",
    "            print('\\b'*2)\n",
    "            \n",
    "            \n",
    "    def selection(self):\n",
    "        nod=self.head\n",
    "        large=nod\n",
    "        lar_val=nod.element\n",
    "        n=None\n",
    "        for w in a:\n",
    "            if nod!=None:\n",
    "                ne=nod.next_node\n",
    "                nod.next_node=n\n",
    "                n=nod\n",
    "                nod=ne\n",
    "                \n",
    "            large=ne\n",
    "            lar_val=ne.element\n",
    "            \n",
    "            g=ne\n",
    "            while nod is not g:\n",
    "                if nod.element>lar_val:\n",
    "                    lar_val=nod.element\n",
    "                    large=nod\n",
    "                    \n",
    "            sw=large.element\n",
    "            large.element=ne.element\n",
    "            ne.element=sw\n",
    "                \n",
    "        print(a)\n",
    "            \n",
    "a=[5,2,0,4,1,9]\n",
    "li=MyList(a)\n",
    "li.selection()"
   ]
  },
  {
   "cell_type": "code",
   "execution_count": 84,
   "id": "44472274",
   "metadata": {},
   "outputs": [
    {
     "ename": "AttributeError",
     "evalue": "'Node' object has no attribute 'pr_node'",
     "output_type": "error",
     "traceback": [
      "\u001b[1;31m---------------------------------------------------------------------------\u001b[0m",
      "\u001b[1;31mAttributeError\u001b[0m                            Traceback (most recent call last)",
      "\u001b[1;32m<ipython-input-84-312a22727599>\u001b[0m in \u001b[0;36m<module>\u001b[1;34m\u001b[0m\n\u001b[0;32m     55\u001b[0m \u001b[0ma\u001b[0m\u001b[1;33m=\u001b[0m\u001b[1;33m[\u001b[0m\u001b[1;36m20\u001b[0m\u001b[1;33m,\u001b[0m\u001b[1;36m30\u001b[0m\u001b[1;33m,\u001b[0m\u001b[1;36m40\u001b[0m\u001b[1;33m,\u001b[0m\u001b[1;36m50\u001b[0m\u001b[1;33m,\u001b[0m\u001b[1;36m60\u001b[0m\u001b[1;33m,\u001b[0m\u001b[1;36m70\u001b[0m\u001b[1;33m]\u001b[0m\u001b[1;33m\u001b[0m\u001b[1;33m\u001b[0m\u001b[0m\n\u001b[0;32m     56\u001b[0m \u001b[0mb\u001b[0m\u001b[1;33m=\u001b[0m\u001b[0mDoublyList\u001b[0m\u001b[1;33m(\u001b[0m\u001b[0ma\u001b[0m\u001b[1;33m)\u001b[0m\u001b[1;33m\u001b[0m\u001b[1;33m\u001b[0m\u001b[0m\n\u001b[1;32m---> 57\u001b[1;33m \u001b[0mb\u001b[0m\u001b[1;33m.\u001b[0m\u001b[0minsertion\u001b[0m\u001b[1;33m(\u001b[0m\u001b[1;33m)\u001b[0m\u001b[1;33m\u001b[0m\u001b[1;33m\u001b[0m\u001b[0m\n\u001b[0m",
      "\u001b[1;32m<ipython-input-84-312a22727599>\u001b[0m in \u001b[0;36minsertion\u001b[1;34m(self)\u001b[0m\n\u001b[0;32m     42\u001b[0m         \u001b[0mnod\u001b[0m\u001b[1;33m=\u001b[0m\u001b[0mself\u001b[0m\u001b[1;33m.\u001b[0m\u001b[0mhead\u001b[0m\u001b[1;33m\u001b[0m\u001b[1;33m\u001b[0m\u001b[0m\n\u001b[0;32m     43\u001b[0m         \u001b[1;32mwhile\u001b[0m \u001b[0mnod\u001b[0m \u001b[1;32mis\u001b[0m \u001b[1;32mnot\u001b[0m \u001b[1;32mNone\u001b[0m\u001b[1;33m:\u001b[0m\u001b[1;33m\u001b[0m\u001b[1;33m\u001b[0m\u001b[0m\n\u001b[1;32m---> 44\u001b[1;33m             \u001b[1;32mwhile\u001b[0m \u001b[0mnod\u001b[0m\u001b[1;33m.\u001b[0m\u001b[0mpr_node\u001b[0m \u001b[1;32mis\u001b[0m \u001b[1;32mnot\u001b[0m \u001b[1;32mNone\u001b[0m\u001b[1;33m:\u001b[0m\u001b[1;33m\u001b[0m\u001b[1;33m\u001b[0m\u001b[0m\n\u001b[0m\u001b[0;32m     45\u001b[0m                 \u001b[1;32mif\u001b[0m \u001b[0mnod\u001b[0m\u001b[1;33m.\u001b[0m\u001b[0mpr_node\u001b[0m\u001b[1;33m.\u001b[0m\u001b[0melement\u001b[0m\u001b[1;33m>\u001b[0m\u001b[0mnod\u001b[0m\u001b[1;33m.\u001b[0m\u001b[0mpr_node\u001b[0m\u001b[1;33m.\u001b[0m\u001b[0mn_node\u001b[0m\u001b[1;33m.\u001b[0m\u001b[0melement\u001b[0m\u001b[1;33m:\u001b[0m\u001b[1;33m\u001b[0m\u001b[1;33m\u001b[0m\u001b[0m\n\u001b[0;32m     46\u001b[0m                     \u001b[0msw\u001b[0m\u001b[1;33m=\u001b[0m\u001b[0mnod\u001b[0m\u001b[1;33m.\u001b[0m\u001b[0mpr_node\u001b[0m\u001b[1;33m.\u001b[0m\u001b[0melement\u001b[0m\u001b[1;33m\u001b[0m\u001b[1;33m\u001b[0m\u001b[0m\n",
      "\u001b[1;31mAttributeError\u001b[0m: 'Node' object has no attribute 'pr_node'"
     ]
    }
   ],
   "source": [
    "#TASK 5\n",
    "\n",
    "class Node:\n",
    "    def __init__(self,element,n_node,pr_node):\n",
    "        self.element=element\n",
    "        self.ne=n_node\n",
    "        self.pr=pr_node\n",
    "        \n",
    "class DoublyList:\n",
    "    def __init__(self,a):\n",
    "        if len(a)!=0:\n",
    "            self.head=Node(None,None,None)\n",
    "            self.head.ne=self.head.pr=self.head\n",
    "            n=self.head\n",
    "        \n",
    "            for i in a:\n",
    "                nod=Node(i,None,None)\n",
    "                nod.ne=n.ne\n",
    "                n.ne=nod\n",
    "                nod.pr=n\n",
    "                nod.ne.pr=nod\n",
    "                n=nod\n",
    "        \n",
    "        else:\n",
    "            self.head=Node(None,None,None)\n",
    "            self.head.ne=self.head.pr=self.head\n",
    "            n=self.head\n",
    "            print('Empty list')\n",
    "                \n",
    "    def showList(self):\n",
    "        s=self.head\n",
    "        nod=self.head.ne\n",
    "        if nod is None:\n",
    "            print('Empty list')\n",
    "        \n",
    "        else:\n",
    "            while nod is not s:\n",
    "                print(nod.element)\n",
    "                nod=nod.ne\n",
    "                \n",
    "    def insertion(self):\n",
    "        nod=self.head\n",
    "        while nod is not None:\n",
    "            while nod.pr_node is not None:\n",
    "                if nod.pr_node.element>nod.pr_node.n_node.element:\n",
    "                    sw=nod.pr_node.element\n",
    "                    nod.pr_node.element=nod.pr_node.n_node.element\n",
    "                    nod.pr_node.n_node.element=sw\n",
    "                \n",
    "                else:\n",
    "                    break\n",
    "        print(a)\n",
    "                    \n",
    "                \n",
    "a=[20,30,40,50,60,70]\n",
    "b=DoublyList(a)\n",
    "b.insertion()"
   ]
  },
  {
   "cell_type": "code",
   "execution_count": 81,
   "id": "0cfd0a5f",
   "metadata": {},
   "outputs": [
    {
     "name": "stdout",
     "output_type": "stream",
     "text": [
      "4\n"
     ]
    }
   ],
   "source": [
    "#TASK 6\n",
    "\n",
    "def binary(arr,value,le,ri):\n",
    "    \n",
    "    if ri>=le:\n",
    "        mid_point=(ri+le)//2\n",
    "        if value==arr[mid_point]:\n",
    "            return mid_point\n",
    "        elif arr[mid_point]<value:\n",
    "            return binary(arr,value,mid_point+1,ri)\n",
    "        elif arr[mid_point]>value:\n",
    "            return binary(arr,value,le,mid_point-1)\n",
    "    \n",
    "    else:\n",
    "        return -1\n",
    "\n",
    "arr=[11,3,2,4,9,7]\n",
    "value=9\n",
    "print(binary(arr,value,0,len(arr)-1))"
   ]
  },
  {
   "cell_type": "code",
   "execution_count": 85,
   "id": "b952e762",
   "metadata": {},
   "outputs": [
    {
     "name": "stdout",
     "output_type": "stream",
     "text": [
      "28657\n"
     ]
    }
   ],
   "source": [
    "#TASK 7\n",
    "\n",
    "f=list()\n",
    "    \n",
    "def fibo_memoization(num):\n",
    "    if 0<f[num]:\n",
    "        return f[num]\n",
    "    elif (num==0 or num==1):\n",
    "        return 1\n",
    "    else:\n",
    "        return f.append(fibo_memoization(num-1)+fibo_memoization(num-2))\n",
    "    \n",
    "def calculation():\n",
    "    f.insert(0,1)\n",
    "    f.insert(1,1)\n",
    "    k=2\n",
    "    while k<23:\n",
    "        f.insert(k,f[k-1]+f[k-2])\n",
    "        k+=1\n",
    "        \n",
    "calculation()\n",
    "print(fibo_memoization(22))    "
   ]
  },
  {
   "cell_type": "code",
   "execution_count": null,
   "id": "8cf4b3a8",
   "metadata": {},
   "outputs": [],
   "source": []
  }
 ],
 "metadata": {
  "kernelspec": {
   "display_name": "Python 3",
   "language": "python",
   "name": "python3"
  },
  "language_info": {
   "codemirror_mode": {
    "name": "ipython",
    "version": 3
   },
   "file_extension": ".py",
   "mimetype": "text/x-python",
   "name": "python",
   "nbconvert_exporter": "python",
   "pygments_lexer": "ipython3",
   "version": "3.8.8"
  }
 },
 "nbformat": 4,
 "nbformat_minor": 5
}
