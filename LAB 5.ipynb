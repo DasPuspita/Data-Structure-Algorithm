{
 "cells": [
  {
   "cell_type": "code",
   "execution_count": 17,
   "id": "c95d8161",
   "metadata": {},
   "outputs": [
    {
     "name": "stdout",
     "output_type": "stream",
     "text": [
      "24\n"
     ]
    }
   ],
   "source": [
    "#TASK 1(a)\n",
    "\n",
    "def factorial(n):\n",
    "    if n==0:\n",
    "        return 0\n",
    "    elif n==1:\n",
    "        return 1\n",
    "    else:\n",
    "        var=factorial(n-1)\n",
    "        return n*var\n",
    "    \n",
    "    \n",
    "print(factorial(4)) "
   ]
  },
  {
   "cell_type": "code",
   "execution_count": 19,
   "id": "4d3b776f",
   "metadata": {},
   "outputs": [
    {
     "name": "stdout",
     "output_type": "stream",
     "text": [
      "13\n"
     ]
    }
   ],
   "source": [
    "#TASK 1(b)\n",
    "\n",
    "def fibo(n):\n",
    "    if n==0:\n",
    "        return 0\n",
    "    elif n==1:\n",
    "        return 1\n",
    "    else:\n",
    "        return fibo(n-1)+fibo(n-2)\n",
    "    \n",
    "print(fibo(7))"
   ]
  },
  {
   "cell_type": "code",
   "execution_count": 20,
   "id": "2e8c371d",
   "metadata": {},
   "outputs": [
    {
     "name": "stdout",
     "output_type": "stream",
     "text": [
      "10,20,30,40,50,\b\n"
     ]
    }
   ],
   "source": [
    "#TASK 1(c)\n",
    "\n",
    "def array(arr,idx,n):\n",
    "    if idx>=n:\n",
    "        return \n",
    "    else:\n",
    "        print(arr[idx],end=',')\n",
    "        array(arr,idx+1,n)\n",
    "    \n",
    "    \n",
    "arr=[10,20,30,40,50]\n",
    "n=len(arr)\n",
    "array(arr,0,n)\n",
    "print('\\b')"
   ]
  },
  {
   "cell_type": "code",
   "execution_count": 22,
   "id": "ddf3bd27",
   "metadata": {},
   "outputs": [
    {
     "name": "stdout",
     "output_type": "stream",
     "text": [
      "9\n"
     ]
    }
   ],
   "source": [
    "#TASK 1(d)\n",
    "\n",
    "def powerN(base,n):\n",
    "    if n==0:\n",
    "        return 1\n",
    "    else:\n",
    "        return base*powerN(base,n-1)\n",
    "    \n",
    "print(powerN(3,2))"
   ]
  },
  {
   "cell_type": "code",
   "execution_count": 25,
   "id": "df835fbd",
   "metadata": {},
   "outputs": [
    {
     "name": "stdout",
     "output_type": "stream",
     "text": [
      "101111\n"
     ]
    }
   ],
   "source": [
    "#TASK 2(a)\n",
    "\n",
    "em=[]\n",
    "s=''\n",
    "def de_bi(n):\n",
    "    if n==0:\n",
    "        return 0\n",
    "    \n",
    "    else:\n",
    "        m=(n%2)\n",
    "        p=n//2\n",
    "        em.append(m)\n",
    "        return de_bi(p)\n",
    "       \n",
    "de_bi(47)\n",
    "h=em[::-1]\n",
    "for i in h:\n",
    "    s+=str(i)\n",
    "print(s)"
   ]
  },
  {
   "cell_type": "code",
   "execution_count": 7,
   "id": "484241b4",
   "metadata": {},
   "outputs": [
    {
     "name": "stdout",
     "output_type": "stream",
     "text": [
      "30\n"
     ]
    }
   ],
   "source": [
    "#TASK 2(b)\n",
    "\n",
    "class Node:\n",
    "    def __init__(self,element,ne):\n",
    "        self.element=element\n",
    "        self.ne=ne\n",
    "    \n",
    "\n",
    "class MyList:\n",
    "    def __init__(self,w):\n",
    "        self.head=None\n",
    "        ta=None\n",
    "        j=0\n",
    "        while j<len(w):\n",
    "            nod=Node(w[j],None)\n",
    "            if self.head==None:\n",
    "                self.head=nod\n",
    "                ta=nod\n",
    "            else:\n",
    "                ta.ne=nod\n",
    "                ta=nod\n",
    "            j+=1\n",
    "        \n",
    "                \n",
    "    def showList(self):\n",
    "        nod=self.head\n",
    "        if nod is None:\n",
    "            print('Empty list')\n",
    "        else:\n",
    "            while nod is not None: \n",
    "                print(nod.element,end='->')\n",
    "                nod=nod.ne\n",
    "            print('\\b'*2)\n",
    "\n",
    "            \n",
    "        \n",
    "def plus(nod):\n",
    "    if nod.ne is None:\n",
    "        return nod.element\n",
    "    else:\n",
    "        return nod.element+plus(nod.ne)\n",
    "\n",
    "    \n",
    "w=[10,20]        \n",
    "li=MyList(w)\n",
    "print(plus(li.head))"
   ]
  },
  {
   "cell_type": "code",
   "execution_count": 5,
   "id": "c8e69575",
   "metadata": {},
   "outputs": [
    {
     "name": "stdout",
     "output_type": "stream",
     "text": [
      "40\n",
      "30\n",
      "20\n",
      "10\n"
     ]
    }
   ],
   "source": [
    "#TASK 2(c)\n",
    "\n",
    "class Node:\n",
    "    def __init__(self,element,ne):\n",
    "        self.element=element\n",
    "        self.ne=ne\n",
    "    \n",
    "\n",
    "class MyList:\n",
    "    def __init__(self,w):\n",
    "        self.head=None\n",
    "        ta=None\n",
    "        j=0\n",
    "        while j<len(w):\n",
    "            nod=Node(w[j],None)\n",
    "            if self.head==None:\n",
    "                self.head=nod\n",
    "                ta=nod\n",
    "            else:\n",
    "                ta.ne=nod\n",
    "                ta=nod\n",
    "            j+=1\n",
    "        \n",
    "                \n",
    "    def showList(self):\n",
    "        nod=self.head\n",
    "        if nod is None:\n",
    "            print('Empty list')\n",
    "        else:\n",
    "            while nod is not None: \n",
    "                print(nod.element,end='->')\n",
    "                nod=nod.ne\n",
    "            print('\\b'*2)\n",
    "        \n",
    "        \n",
    "def rev(nod):\n",
    "    if nod is None:\n",
    "        return nod\n",
    "    else:\n",
    "        rev(nod.ne)\n",
    "        print(nod.element)\n",
    "        \n",
    "w=[10,20,30,40]        \n",
    "li=MyList(w)\n",
    "rev(li.head)"
   ]
  },
  {
   "cell_type": "code",
   "execution_count": 2,
   "id": "2e597667",
   "metadata": {},
   "outputs": [
    {
     "name": "stdout",
     "output_type": "stream",
     "text": [
      "13\n"
     ]
    }
   ],
   "source": [
    "#TASK 3\n",
    "\n",
    "def hocBuilder(height):\n",
    "    if height==0:\n",
    "        return \n",
    "    elif height==1:\n",
    "        return 8\n",
    "    else:\n",
    "        rea=hocBuilder(height-1)\n",
    "        return 5+rea\n",
    "    \n",
    "print(hocBuilder(2))"
   ]
  },
  {
   "cell_type": "code",
   "execution_count": 29,
   "id": "e2e1b926",
   "metadata": {},
   "outputs": [
    {
     "name": "stdout",
     "output_type": "stream",
     "text": [
      "enter integer: 5\n",
      "1\n",
      "12\n",
      "123\n",
      "1234\n",
      "12345\n"
     ]
    }
   ],
   "source": [
    "#TASK 4(a)\n",
    "\n",
    "tr=int(input('enter integer: '))\n",
    "def pattern(tr):\n",
    "    if tr==0:\n",
    "        return \n",
    "    else:\n",
    "        pattern(tr-1)\n",
    "        triangle(tr)\n",
    "        print()\n",
    "        return\n",
    "    \n",
    "def triangle(tr):\n",
    "    if tr==0:\n",
    "        return \n",
    "    else:\n",
    "        triangle(tr-1)\n",
    "        print(tr,end='')\n",
    "        return\n",
    "\n",
    "pattern(tr) "
   ]
  },
  {
   "cell_type": "code",
   "execution_count": 30,
   "id": "b21674ac",
   "metadata": {},
   "outputs": [
    {
     "name": "stdout",
     "output_type": "stream",
     "text": [
      "enter num: 5\n",
      "    1\n",
      "   12\n",
      "  123\n",
      " 1234\n",
      "12345\n"
     ]
    }
   ],
   "source": [
    "#TASK 4(b)\n",
    "\n",
    "tr=int(input('enter num: '))\n",
    "def angle(tr,index):\n",
    "    if tr==0:\n",
    "        return \n",
    "    else:\n",
    "        angle(tr-1,index)\n",
    "        print(' '*(index-tr),end='')\n",
    "        triangle(tr)\n",
    "        print()\n",
    "        return\n",
    "    \n",
    "def triangle(tr):\n",
    "    if tr==0:\n",
    "        return \n",
    "    else:\n",
    "        triangle(tr-1)\n",
    "        print(tr,end='')\n",
    "        return\n",
    "    \n",
    "angle(tr,tr) "
   ]
  },
  {
   "cell_type": "code",
   "execution_count": 6,
   "id": "2bc07c14",
   "metadata": {},
   "outputs": [
    {
     "name": "stdout",
     "output_type": "stream",
     "text": [
      "1 . Investment: 25000 ; Profit: 0.0\n",
      "2 . Investment: 100000 ; Profit: 3375.0\n",
      "3 . Investment: 250000 ; Profit: 15375.0\n",
      "4 . Investment: 350000 ; Profit: 23375.0\n"
     ]
    }
   ],
   "source": [
    "#TASK 5\n",
    "\n",
    "class FinalQ:\n",
    "    def print(self,array,idx):\n",
    "        if idx<len(array):\n",
    "            profit=self.calcProfit(array[idx])\n",
    "            print(idx+1,'.','Investment:',array[idx],';','Profit:',profit)\n",
    "            self.print(array,idx+1)\n",
    "            \n",
    "        else:\n",
    "            return\n",
    "            \n",
    "    def calcProfit(self,investment):\n",
    "        if investment==25000:\n",
    "            return 0.0\n",
    "        elif investment<=100000:\n",
    "            return self.calcProfit(investment-100)+4.5\n",
    "            \n",
    "        else:\n",
    "            return self.calcProfit(investment-1000)+80\n",
    "            \n",
    "        \n",
    "        \n",
    "array=[25000,100000,250000,350000]\n",
    "f=FinalQ()\n",
    "f.print(array,0)"
   ]
  },
  {
   "cell_type": "code",
   "execution_count": null,
   "id": "3f59e84b",
   "metadata": {},
   "outputs": [],
   "source": []
  }
 ],
 "metadata": {
  "kernelspec": {
   "display_name": "Python 3",
   "language": "python",
   "name": "python3"
  },
  "language_info": {
   "codemirror_mode": {
    "name": "ipython",
    "version": 3
   },
   "file_extension": ".py",
   "mimetype": "text/x-python",
   "name": "python",
   "nbconvert_exporter": "python",
   "pygments_lexer": "ipython3",
   "version": "3.8.8"
  }
 },
 "nbformat": 4,
 "nbformat_minor": 5
}
