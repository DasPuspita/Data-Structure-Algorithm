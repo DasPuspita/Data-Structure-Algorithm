{
 "cells": [
  {
   "cell_type": "code",
   "execution_count": 52,
   "id": "c36868fc",
   "metadata": {},
   "outputs": [
    {
     "name": "stdout",
     "output_type": "stream",
     "text": [
      "[40, 50, 60, 0, 0, 0]\n"
     ]
    }
   ],
   "source": [
    "#Linear Arrays 1\n",
    "\n",
    "def shiftLeft(source,k):\n",
    "    index=0\n",
    "    while index<len(source)-k:\n",
    "        source[index]=source[index+k]\n",
    "        index+=1\n",
    "        \n",
    "    index=len(source)-1\n",
    "    while index>=len(source)-k:\n",
    "        source[index]=0\n",
    "        index-=1\n",
    "\n",
    "        \n",
    "source=[10,20,30,40,50,60]\n",
    "shiftLeft(source,3)\n",
    "print(source)"
   ]
  },
  {
   "cell_type": "code",
   "execution_count": 53,
   "id": "13e2b950",
   "metadata": {},
   "outputs": [
    {
     "name": "stdout",
     "output_type": "stream",
     "text": [
      "[40, 50, 60, 10, 20, 30]\n"
     ]
    }
   ],
   "source": [
    "#Linear Arrays 2\n",
    "\n",
    "def rotateLeft(source,k):\n",
    "    index=0\n",
    "    arr=[0]*k\n",
    "    while index<k:\n",
    "        arr[index]=source[index]\n",
    "        index+=1\n",
    "        \n",
    "    index=0\n",
    "    while index<len(source)-k:\n",
    "        source[index]=source[index+k]\n",
    "        index+=1\n",
    "        \n",
    "    index=len(source)-1\n",
    "    arr_index=k-1\n",
    "    while index>=len(source)-k:\n",
    "        source[index]=arr[arr_index]\n",
    "        index-=1\n",
    "        arr_index-=1\n",
    "source=[10,20,30,40,50,60]\n",
    "rotateLeft(source,3)\n",
    "print(source)"
   ]
  },
  {
   "cell_type": "code",
   "execution_count": 54,
   "id": "dbeaae5a",
   "metadata": {},
   "outputs": [
    {
     "name": "stdout",
     "output_type": "stream",
     "text": [
      "[10, 20, 40, 50, 0, 0, 0]\n"
     ]
    }
   ],
   "source": [
    "#Linear Arrays 3\n",
    "\n",
    "def remove(source,size,idx):\n",
    "    index=source[size]\n",
    "    another_index=idx\n",
    "    while another_index<size:\n",
    "        source[another_index]=source[another_index+1]\n",
    "        another_index+=1\n",
    "    \n",
    "    index=0\n",
    "    \n",
    "source=[10,20,30,40,50,0,0]\n",
    "remove(source,5,2)\n",
    "print(source)"
   ]
  },
  {
   "cell_type": "code",
   "execution_count": 55,
   "id": "407911c5",
   "metadata": {},
   "outputs": [
    {
     "name": "stdout",
     "output_type": "stream",
     "text": [
      "[10, 30, 50, 0, 0, 0, 0, 0, 0]\n"
     ]
    }
   ],
   "source": [
    "#Linear Arays 4\n",
    "\n",
    "def removeAll(source,size,element):\n",
    "    for i in range(0,size):\n",
    "        while source[i]==element:\n",
    "            for j in range(i,size-1):\n",
    "                source[j]=source[j+1]\n",
    "            source[size-1]=0\n",
    "            size=size-1\n",
    "\n",
    "source=[10,2,30,2,50,2,2,0,0]\n",
    "removeAll(source,7,2)\n",
    "print(source)"
   ]
  },
  {
   "cell_type": "code",
   "execution_count": 56,
   "id": "64f5f75c",
   "metadata": {},
   "outputs": [
    {
     "name": "stdout",
     "output_type": "stream",
     "text": [
      "true\n"
     ]
    }
   ],
   "source": [
    "#Linear Arrays 5\n",
    "\n",
    "def beam_balance(A):\n",
    "    sum=0\n",
    "    sum1=0\n",
    "    i=0\n",
    "    while i<len(A):\n",
    "        sum+=A[i]\n",
    "        j=i+1\n",
    "        sum1=0\n",
    "        while j<len(A): \n",
    "            sum1+=A[j]\n",
    "            j+=1\n",
    "        if sum==sum1:\n",
    "            return 'true'\n",
    "      \n",
    "        i+=1\n",
    "    return 'false'\n",
    "    \n",
    "    \n",
    "    \n",
    "A=[1,1,1,2,1]\n",
    "print(beam_balance(A))"
   ]
  },
  {
   "cell_type": "code",
   "execution_count": 57,
   "id": "3f0f87c8",
   "metadata": {},
   "outputs": [
    {
     "name": "stdout",
     "output_type": "stream",
     "text": [
      "[0, 0, 1, 0, 2, 1, 3, 2, 1]\n"
     ]
    }
   ],
   "source": [
    "#Linear Arrays 6\n",
    "\n",
    "def series(n):\n",
    "    array=[0]*n**2\n",
    "    element=1\n",
    "    last_index=len(array)-1\n",
    "    i=0\n",
    "    \n",
    "    while i<n: \n",
    "        while element<=n:\n",
    "            if element<=n-i:\n",
    "                array[last_index]=element\n",
    "            else:\n",
    "                array[last_index]=0\n",
    "                \n",
    "            last_index-=1\n",
    "            element+=1\n",
    "        i=i+1\n",
    "        element=1\n",
    "    return array\n",
    "    \n",
    "print(series(3))"
   ]
  },
  {
   "cell_type": "code",
   "execution_count": 58,
   "id": "d9ae4985",
   "metadata": {},
   "outputs": [
    {
     "name": "stdout",
     "output_type": "stream",
     "text": [
      "3\n"
     ]
    }
   ],
   "source": [
    "#Linear Arrays 7\n",
    "\n",
    "\n",
    "def bunch(source):\n",
    "    max_count=0\n",
    "    for i in range(0,len(source)-1):\n",
    "        count=0\n",
    "        for j in range(i+1,len(source)):\n",
    "            if source[j]==source[i]:\n",
    "                count+=1\n",
    "            else:\n",
    "                break\n",
    "                \n",
    "        if count>0:\n",
    "            count+=1\n",
    "        if count>max_count:\n",
    "            max_count=count\n",
    "    return max_count\n",
    "\n",
    "source=[1,2,2,3,4,4,4]\n",
    "print(bunch(source))\n",
    "            "
   ]
  },
  {
   "cell_type": "code",
   "execution_count": 59,
   "id": "d64e21b8",
   "metadata": {},
   "outputs": [
    {
     "name": "stdout",
     "output_type": "stream",
     "text": [
      "True\n"
     ]
    }
   ],
   "source": [
    "#Linear Arrays 8\n",
    "\n",
    "def repetition_check(parameter):\n",
    "    array=[]\n",
    "    array1=[]\n",
    "    i=0\n",
    "\n",
    "    while i<len(parameter)-1:\n",
    "        count=1\n",
    "        b=False\n",
    "        j=i+1\n",
    "        k=0\n",
    "        \n",
    "        while k<len(array1):\n",
    "            if (parameter[i]==array1[k]):\n",
    "                b=True\n",
    "                break\n",
    "            else:\n",
    "                b=False\n",
    "            k+=1\n",
    "        if b==False:\n",
    "            while j<len(parameter):\n",
    "                if parameter[i]==parameter[j]:\n",
    "                    count+=1\n",
    "                j+=1\n",
    "            array.append(count)\n",
    "        i+=1 \n",
    "        array1.append(parameter[i-1])\n",
    "    for i in range(len(array)):\n",
    "        if array[i]>=2:\n",
    "            for h in range(i+1,len(array)):\n",
    "                if array[i]==array[h]:\n",
    "                    return 'True'\n",
    "        \n",
    "    return 'False' \n",
    "\n",
    "                \n",
    "    \n",
    "    \n",
    "parameter=[4,5,6,6,4,3,6,4]\n",
    "print(repetition_check(parameter))\n"
   ]
  },
  {
   "cell_type": "code",
   "execution_count": 60,
   "id": "cd856083",
   "metadata": {},
   "outputs": [
    {
     "name": "stdout",
     "output_type": "stream",
     "text": [
      "True\n"
     ]
    }
   ],
   "source": [
    "#Circular Arrays 1\n",
    "\n",
    "def palindrome_check(circular_array,start,size):\n",
    "    index=start\n",
    "    another_index=(start+(size-1))%len(circular_array)\n",
    "    while index<len(circular_array)-1:\n",
    "        if circular_array[index]!=circular_array[another_index]:\n",
    "            return False\n",
    "        else:\n",
    "            return True\n",
    "        index+=1\n",
    "        another_index-=1\n",
    "        \n",
    "            \n",
    "    \n",
    "circular_array=[20,10,0,0,0,10,20,30]\n",
    "print(palindrome_check(circular_array,5,5))"
   ]
  },
  {
   "cell_type": "code",
   "execution_count": 61,
   "id": "4c979ef1",
   "metadata": {},
   "outputs": [
    {
     "name": "stdout",
     "output_type": "stream",
     "text": [
      "[10, 20, 40]\n"
     ]
    }
   ],
   "source": [
    "#Circular Arrays 2\n",
    "\n",
    "def components(Circular_array1,Circular_array2,start_1,size_1,start_2,size_2):\n",
    "    new=[]\n",
    "    index_1=(start_1+(size_1-1))%len(Circular_array1)\n",
    "    index_2=(start_2+(size_2-1))%len(Circular_array2)\n",
    "    i_1=start_1\n",
    "    \n",
    "    \n",
    "    while i_1!=index_1+1:\n",
    "        j_1=start_2\n",
    "        while j_1!=index_2+1:\n",
    "            if Circular_array1[i_1]==Circular_array2[j_1]:\n",
    "                new.append(Circular_array2[j_1])\n",
    "            j_1+=1\n",
    "            if j_1==len(Circular_array2):\n",
    "                j_1=0\n",
    "        i_1+=1\n",
    "        if i_1==len(Circular_array1):\n",
    "            i_1=0\n",
    "\n",
    "            \n",
    "    return new\n",
    "Circular_array1=[40,50,0,0,0,10,20,30]\n",
    "Circular_array2=[10,20,5,0,0,0,0,0,5,40,15,25]\n",
    "print(components(Circular_array1,Circular_array2,5,5,8,7))"
   ]
  },
  {
   "cell_type": "code",
   "execution_count": 62,
   "id": "dc0d5dcf",
   "metadata": {},
   "outputs": [
    {
     "name": "stdout",
     "output_type": "stream",
     "text": [
      "2\n"
     ]
    }
   ],
   "source": [
    "#Circular Arrays 3\n",
    "\n",
    "def musical_game(source):\n",
    "    index=0\n",
    "    num=7\n",
    "    for i in range(index,num):\n",
    "        for j in range(0,4):\n",
    "            if j==1:\n",
    "                source[num//2]=source[num//2-1]\n",
    "            else:\n",
    "                source[index]=source[index+1]\n",
    "        index=0\n",
    "    print(source[index])\n",
    "    \n",
    "source=[1,2,3,4,5,6,7]\n",
    "musical_game(source)"
   ]
  },
  {
   "cell_type": "code",
   "execution_count": null,
   "id": "db676d99",
   "metadata": {},
   "outputs": [],
   "source": []
  }
 ],
 "metadata": {
  "kernelspec": {
   "display_name": "Python 3",
   "language": "python",
   "name": "python3"
  },
  "language_info": {
   "codemirror_mode": {
    "name": "ipython",
    "version": 3
   },
   "file_extension": ".py",
   "mimetype": "text/x-python",
   "name": "python",
   "nbconvert_exporter": "python",
   "pygments_lexer": "ipython3",
   "version": "3.8.8"
  }
 },
 "nbformat": 4,
 "nbformat_minor": 5
}
